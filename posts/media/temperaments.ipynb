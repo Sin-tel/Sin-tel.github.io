{
 "cells": [
  {
   "cell_type": "markdown",
   "metadata": {},
   "source": [
    "# Temperament calculations in SageMath"
   ]
  },
  {
   "cell_type": "markdown",
   "metadata": {},
   "source": [
    "## setup\n",
    "Just run this once. Sets up basic functionality for temperament calculations."
   ]
  },
  {
   "cell_type": "code",
   "execution_count": 82,
   "metadata": {},
   "outputs": [],
   "source": [
    "# set p-limit module to use\n",
    "# this should probably be a class instead of some globals, but its good enough for a notebook\n",
    "def set_limit(p):\n",
    "    n_dim = prime_pi(p);\n",
    "    \n",
    "    print(\"basis: \")\n",
    "    print(prime_range(p+1))\n",
    "\n",
    "    global log2\n",
    "    def log2(x):\n",
    "        return log(x)/log(2)\n",
    "\n",
    "    # prime matrix\n",
    "    global P\n",
    "    P = matrix(RR, 1, n_dim, lambda i, j: log2(Primes().unrank(j)));\n",
    "\n",
    "    # canonical map for n-edo\n",
    "    global edo_map\n",
    "    def edo_map(n):\n",
    "        return matrix(ZZ, 1, n_dim, lambda i, j: round(n*log2(Primes().unrank(j))));\n",
    "\n",
    "    # vector -> ratio\n",
    "    global ratio\n",
    "    def ratio(v):\n",
    "        if not isinstance(v, list):\n",
    "            v = v.list()\n",
    "        res = 1/1;\n",
    "        for i in range(len(v)):\n",
    "            res *= Primes().unrank(i) ^ v[i]\n",
    "        return res\n",
    "\n",
    "    # ratio -> vector\n",
    "    global factors\n",
    "    def factors(x):\n",
    "        F = list(x.factor())\n",
    "        d = dict(F)\n",
    "\n",
    "        solution = []\n",
    "        for p in primes(1,stop = Primes().unrank(n_dim)):\n",
    "            if p in d:\n",
    "                solution.append(d[p])\n",
    "            else:\n",
    "                solution.append(0)\n",
    "        assert (x == ratio(solution)), \"Interval not contained in p-limit\"\n",
    "        return Matrix(n_dim,1,solution)\n",
    "\n",
    "    global cents\n",
    "    def cents(x):\n",
    "        return 1200*x;"
   ]
  },
  {
   "cell_type": "markdown",
   "metadata": {},
   "source": [
    "Use $ \\mathbb{J}^{5} $:"
   ]
  },
  {
   "cell_type": "code",
   "execution_count": 83,
   "metadata": {},
   "outputs": [
    {
     "name": "stdout",
     "output_type": "stream",
     "text": [
      "basis: \n",
      "[2, 3, 5]\n"
     ]
    }
   ],
   "source": [
    "set_limit(5)"
   ]
  },
  {
   "cell_type": "markdown",
   "metadata": {},
   "source": [
    "Some basic functionality"
   ]
  },
  {
   "cell_type": "code",
   "execution_count": 91,
   "metadata": {},
   "outputs": [
    {
     "name": "stdout",
     "output_type": "stream",
     "text": [
      "Vector form of 45/32:\n",
      "[-5]\n",
      "[ 2]\n",
      "[ 1]\n",
      "Ratio corresponding to [1 1 -1]:\n",
      "6/5\n",
      "Interval size:\n",
      "octaves: [0.263034405833794]\n",
      "cents: [315.641287000553]\n",
      "Get canonical 12-EDO map:\n",
      "[12 19 28]\n"
     ]
    }
   ],
   "source": [
    "print(\"Vector form of 45/32:\")\n",
    "print(factors(45/32))\n",
    "print(\"Ratio corresponding to [1 1 -1]:\")\n",
    "m3 = matrix([1,1,-1]).transpose()\n",
    "print(ratio(m3))\n",
    "print(\"Interval size:\")\n",
    "print(\"octaves:\", P*m3)\n",
    "print(\"cents:\",cents(P*m3))\n",
    "print(\"Get canonical 12-EDO map:\")\n",
    "print(edo_map(12\n",
    "             ))"
   ]
  },
  {
   "cell_type": "markdown",
   "metadata": {},
   "source": [
    "Meantone map"
   ]
  },
  {
   "cell_type": "code",
   "execution_count": 3,
   "metadata": {},
   "outputs": [],
   "source": [
    "T = matrix([[1, 1, 0], [0, 1, 4]])"
   ]
  },
  {
   "cell_type": "code",
   "execution_count": 3,
   "metadata": {},
   "outputs": [
    {
     "name": "stdout",
     "output_type": "stream",
     "text": [
      "[19 30 44]\n",
      "[12 19 28]\n",
      "\n",
      "HNF reduction:\n",
      "[1 1 0]\n",
      "[0 1 4]\n"
     ]
    }
   ],
   "source": [
    "#definte temperament from 7 & 12\n",
    "T = block_matrix(ZZ, [[edo_map(19)], [edo_map(12)]],subdivide=False);\n",
    "print(T);\n",
    "print(\"\\nHNF reduction:\");\n",
    "T = T.echelon_form();\n",
    "\n",
    "#this is just to octave reduce the generator\n",
    "T = copy(T).with_added_multiple_of_row(0,1,1)\n",
    "print(T);"
   ]
  },
  {
   "cell_type": "code",
   "execution_count": 19,
   "metadata": {},
   "outputs": [
    {
     "data": {
      "text/plain": [
       "[1200.00000000000 696.578428466209]"
      ]
     },
     "execution_count": 19,
     "metadata": {},
     "output_type": "execute_result"
    }
   ],
   "source": [
    "#calculate quarter comma meantone (just 2/1, 5/4)\n",
    "J = block_matrix([[factors(2/1), factors(5/4)]],subdivide=False);\n",
    "\n",
    "A = (T*J);\n",
    "b = (P*J);\n",
    "\n",
    "# wwe want to solve left: xA = b\n",
    "gen = A.solve_left(b);\n",
    "cents(gen)\n",
    "\n",
    "#print(cents(P*factors(6/5)))  #Just minor third\n",
    "#print(cents(gen*T*factors(6/5)))  #Factored through the temperament"
   ]
  },
  {
   "cell_type": "code",
   "execution_count": 20,
   "metadata": {},
   "outputs": [
    {
     "name": "stdout",
     "output_type": "stream",
     "text": [
      "[1203.39572993632 697.993315939677]\n"
     ]
    }
   ],
   "source": [
    "# calculate least squares optimal tuning wrt some intervals\n",
    "\n",
    "J = block_matrix([[factors(2/1), factors(3/2), factors(5/4), factors(6/5)]], subdivide=False);\n",
    "\n",
    "A = (T*J).transpose();\n",
    "b = (P*J).transpose();\n",
    "\n",
    "#OLS solve   (A^t A)^-1 A^t b\n",
    "gen = (A.transpose() * A).inverse() * (A.transpose() * b);\n",
    "gen = gen.transpose();\n",
    "print(cents(gen))"
   ]
  },
  {
   "cell_type": "code",
   "execution_count": 21,
   "metadata": {},
   "outputs": [
    {
     "data": {
      "text/plain": [
       "[ 1200.00000000000  696.164845973964 0.827164984489093]"
      ]
     },
     "execution_count": 21,
     "metadata": {},
     "output_type": "execute_result"
    }
   ],
   "source": [
    "#calculate least squares optimal tuning wrt some intervals, with added constraint of pure octaves\n",
    "J = block_matrix([[factors(3/2), factors(5/4), factors(5/3)]], subdivide=False);\n",
    "\n",
    "A = (T*J).transpose();\n",
    "b = (P*J).transpose();\n",
    "\n",
    "# constraint matrix\n",
    "# this says: 1*x + 0*y = 1\n",
    "# aka the first generator is a just octave\n",
    "C = matrix([1,0]);\n",
    "d = matrix([1]);\n",
    "\n",
    "E = block_matrix([[A.transpose() * A, C.transpose()], [C, 0]]);\n",
    "f = block_matrix([[A.transpose() * b], [d]]);\n",
    "\n",
    "#solve, the last number is the lagrange multiplier, which can be ignored\n",
    "gen = (E.inverse()) * f;\n",
    "gen = gen.transpose();\n",
    "cents(gen)"
   ]
  },
  {
   "cell_type": "code",
   "execution_count": 22,
   "metadata": {},
   "outputs": [
    {
     "name": "stdout",
     "output_type": "stream",
     "text": [
      "(-4, 4, -1) 81/80 (21.5062895967156)\n",
      "(7, 0, -3) 128/125 (41.0588584054956)\n",
      "(3, 4, -4) 648/625 (62.5651480022107)\n",
      "(11, -4, -2) 2048/2025 (19.5525688087805)\n"
     ]
    },
    {
     "data": {
      "text/plain": [
       "[12 19 28]"
      ]
     },
     "execution_count": 22,
     "metadata": {},
     "output_type": "execute_result"
    }
   ],
   "source": [
    "#find the nullspace (= tempered commas)\n",
    "T = block_matrix(ZZ, [[edo_map(12)]],subdivide=False);\n",
    "K = T.right_kernel().matrix();\n",
    "\n",
    "def tenney(v):\n",
    "    res = 0.0;\n",
    "    for i in range(len(v)):\n",
    "        res += log2(Primes().unrank(i)) * abs(v[i])\n",
    "    return float(res)\n",
    "\n",
    "# LLL reduction to get short commas\n",
    "K = K.LLL();\n",
    "\n",
    "commas = []\n",
    "for x in range(0,10):\n",
    "    for y in range(0,10):\n",
    "        if x!=0 or y!=0 :\n",
    "            v = x*K[0] + y*K[1]\n",
    "            if P*v < 0:\n",
    "                v = -v\n",
    "            commas.append(v)\n",
    "\n",
    "commas.sort(key = tenney)\n",
    "for i in range(4):\n",
    "    c = commas[i]\n",
    "    print(c, ratio(c), cents(P*c))\n",
    "\n",
    "#this operation is (usually) reversible\n",
    "K.right_kernel().matrix()\n",
    "\n"
   ]
  },
  {
   "cell_type": "code",
   "execution_count": 23,
   "metadata": {},
   "outputs": [
    {
     "name": "stdout",
     "output_type": "stream",
     "text": [
      "81/80 gives:\n",
      "[ 1  0 -4]\n",
      "[ 0  1  4]\n",
      "81/80 and 128/125 gives:\n",
      "[12 19 28]\n"
     ]
    }
   ],
   "source": [
    "#find the temperament matrix corresponding to some commas\n",
    "print(\"81/80 gives:\")\n",
    "print(block_matrix(ZZ, [[factors(81/80)]]).left_kernel().matrix())\n",
    "print(\"81/80 and 128/125 gives:\")\n",
    "print(block_matrix(ZZ, [[factors(81/80), factors(128/125)]]).left_kernel().matrix())"
   ]
  },
  {
   "cell_type": "code",
   "execution_count": 24,
   "metadata": {},
   "outputs": [
    {
     "name": "stdout",
     "output_type": "stream",
     "text": [
      "quotient group: \n",
      "Finitely generated module V/W over Integer Ring with invariants (3, 0, 0)\n",
      "Free module of degree 3 and rank 3 over Integer Ring\n",
      "User basis matrix:\n",
      "[ 4 -4  1]\n",
      "[ 1 -1  0]\n",
      "[ 0  1  0]\n",
      "mapping matrix from kernel: \n",
      "[ 1  0 -4]\n",
      "[ 0  1  4]\n"
     ]
    }
   ],
   "source": [
    "# sage has no troubles calculating the correct kernel when theres torsion\n",
    "# (81/80)^3\n",
    "T = block_matrix(ZZ, [[factors(81/80)*3]])\n",
    "\n",
    "print(\"quotient group: \")\n",
    "A = ZZ^3;\n",
    "V = A.span(T.transpose());\n",
    "M = A.quotient(V)\n",
    "print(M)\n",
    "print(M.optimized()[0].V())\n",
    "\n",
    "print(\"mapping matrix from kernel: \")\n",
    "K = T.left_kernel().matrix()\n",
    "print(K)"
   ]
  },
  {
   "cell_type": "code",
   "execution_count": 25,
   "metadata": {},
   "outputs": [
    {
     "name": "stdout",
     "output_type": "stream",
     "text": [
      "5&19 map: \n",
      "[ 5  8 12]\n",
      "[19 30 44]\n",
      "HNF: \n",
      "[ 1  0 -4]\n",
      "[ 0  2  8]\n",
      "removing contorsion: \n",
      "[ 1  0 -4]\n",
      "[ 0  1  4]\n"
     ]
    }
   ],
   "source": [
    "#removing contorsion by going to nullspace and back\n",
    "T = block_matrix(ZZ, [[edo_map(5)], [edo_map(19)]],subdivide=False);\n",
    "print(\"5&19 map: \")\n",
    "print(T)\n",
    "T = T.echelon_form();\n",
    "print(\"HNF: \")\n",
    "print(T)\n",
    "K = T.right_kernel().matrix();\n",
    "\n",
    "print(\"removing contorsion: \")\n",
    "print(K.right_kernel().matrix())"
   ]
  },
  {
   "cell_type": "code",
   "execution_count": 27,
   "metadata": {},
   "outputs": [
    {
     "name": "stdout",
     "output_type": "stream",
     "text": [
      "basis: \n",
      "[2, 3, 5, 7, 11]\n",
      "Orwell:\n",
      "[ 1  0  3  1  3]\n",
      "[ 0  7 -3  8  2]\n",
      "Augene:\n",
      "[ 3  0  7 18 20]\n",
      "[ 0  1  0 -2 -2]\n",
      "Orwell & Augene:\n",
      "comma:\n"
     ]
    },
    {
     "data": {
      "text/plain": [
       "176/175"
      ]
     },
     "execution_count": 27,
     "metadata": {},
     "output_type": "execute_result"
    }
   ],
   "source": [
    "#some higher 11-limit temperaments\n",
    "set_limit(11)\n",
    "\n",
    "T1 = block_matrix(ZZ, [[edo_map(31)], [edo_map(22)]]).echelon_form()\n",
    "print(\"Orwell:\")\n",
    "print(T1)\n",
    "\n",
    "T2 = block_matrix(ZZ, [[edo_map(12)], [edo_map(15)]]).echelon_form()\n",
    "print(\"Augene:\")\n",
    "print(T2)\n",
    "\n",
    "print(\"Orwell & Augene:\")\n",
    "T = block_matrix(ZZ, [[T1], [T2]]).echelon_form()\n",
    "\n",
    "print(\"comma:\")\n",
    "ratio(T.right_kernel().matrix()[0])"
   ]
  },
  {
   "cell_type": "code",
   "execution_count": 29,
   "metadata": {},
   "outputs": [
    {
     "name": "stdout",
     "output_type": "stream",
     "text": [
      "basis: \n",
      "[2, 3, 5]\n",
      "1\n",
      "[ 3717.10785766896 -503.421571533792]\n",
      "[ 3717.10785766896 -503.421571533791]\n"
     ]
    }
   ],
   "source": [
    "## change of basis\n",
    "set_limit(5)\n",
    "T = block_matrix(ZZ, [[edo_map(19)], [edo_map(12)]]).echelon_form();\n",
    "\n",
    "M = matrix([[1,2],[5,11]])\n",
    "print(det(M))\n",
    "T1 = M*T\n",
    "\n",
    "#calculate quarter comma meantone (just 2/1, 5/4)\n",
    "J = block_matrix([[factors(2/1), factors(5/4)]],subdivide=False);\n",
    "\n",
    "A = (T*J);\n",
    "b = (P*J);\n",
    "\n",
    "# wwe want to solve left: xA = b\n",
    "gen = A.solve_left(b);\n",
    "print(cents(gen*(M.inverse())))\n",
    "\n",
    "A = (T1*J);\n",
    "b = (P*J);\n",
    "\n",
    "# wwe want to solve left: xA = b\n",
    "gen = A.solve_left(b);\n",
    "print(cents(gen))\n",
    "\n",
    "#print(cents(P*factors(6/5)))  #Just minor third\n",
    "#print(cents(gen*T*factors(6/5)))  #Factored through the temperament"
   ]
  },
  {
   "cell_type": "code",
   "execution_count": 30,
   "metadata": {},
   "outputs": [
    {
     "data": {
      "text/plain": [
       "[ 19 -30]\n",
       "[-12  19]"
      ]
     },
     "execution_count": 30,
     "metadata": {},
     "output_type": "execute_result"
    }
   ],
   "source": [
    "# get unimodular matrix from HNF\n",
    "T = block_matrix(ZZ, [[edo_map(19)], [edo_map(12)]]);\n",
    "V,U = T.echelon_form(transformation=True)\n",
    "U"
   ]
  }
 ],
 "metadata": {
  "kernelspec": {
   "display_name": "SageMath 9.2",
   "language": "sage",
   "name": "sagemath"
  },
  "language_info": {
   "codemirror_mode": {
    "name": "ipython",
    "version": 3
   },
   "file_extension": ".py",
   "mimetype": "text/x-python",
   "name": "python",
   "nbconvert_exporter": "python",
   "pygments_lexer": "ipython3",
   "version": "3.7.7"
  }
 },
 "nbformat": 4,
 "nbformat_minor": 4
}
